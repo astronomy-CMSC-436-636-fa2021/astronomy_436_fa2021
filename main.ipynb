{
 "cells": [
  {
   "cell_type": "code",
   "execution_count": 1,
   "id": "f7c9111f",
   "metadata": {},
   "outputs": [],
   "source": [
    "import astronomy as a\n",
    "def make_dir(dir_name):\n",
    "    try:\n",
    "        if os.path.isdir(str(Path().absolute()) + f\"\\\\{dir_name}\\\\\"):\n",
    "            pass\n",
    "        else:\n",
    "            os.makedirs(str(Path().absolute()) + f\"\\\\{dir_name}\\\\\")\n",
    "    except:\n",
    "        print(f\"Raised Exception trying to create {dir_name} directory.\")\n",
    "    return"
   ]
  },
  {
   "cell_type": "code",
   "execution_count": null,
   "id": "60d8113b",
   "metadata": {},
   "outputs": [
    {
     "name": "stdout",
     "output_type": "stream",
     "text": [
      "What week would you like to start (009 minimum)10\n",
      "What week would you like to end? (700 max)20\n",
      "There will be approximately 660 MB for those files, is that ok?(y/n)y\n",
      "Getting values for bounds of energy, measured in MeV. Enter 0 for both if you don't want to use Energy Filtering\n",
      "What is your lower bound for the energy? (Recommend no lower than 20)20\n",
      "What is your upper bound for the energy (Recommend no higher than 3500)500\n"
     ]
    }
   ],
   "source": [
    "def main():\n",
    "    global start_week, end_week, start_eng_range, end_eng_range\n",
    "    start_week, end_week, start_eng_range, end_eng_range = a.do_some_prompts()\n",
    "    a.download_some_files(start_week, end_week)\n",
    "    make_dir(\"Occurrence-singles\")\n",
    "    make_dir(\"Occurrence-avgs\")\n",
    "    make_dir(\"Energy-singles\")\n",
    "    make_dir(\"Energy-avgs\")\n",
    "    a.procedural_gen_full(start_week, end_week, start_eng_range, end_eng_range)\n",
    "main()"
   ]
  },
  {
   "cell_type": "code",
   "execution_count": null,
   "id": "cf974ead",
   "metadata": {},
   "outputs": [],
   "source": []
  }
 ],
 "metadata": {
  "kernelspec": {
   "display_name": "Python 3 (ipykernel)",
   "language": "python",
   "name": "python3"
  },
  "language_info": {
   "codemirror_mode": {
    "name": "ipython",
    "version": 3
   },
   "file_extension": ".py",
   "mimetype": "text/x-python",
   "name": "python",
   "nbconvert_exporter": "python",
   "pygments_lexer": "ipython3",
   "version": "3.9.7"
  }
 },
 "nbformat": 4,
 "nbformat_minor": 5
}
